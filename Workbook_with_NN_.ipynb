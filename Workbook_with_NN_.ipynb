{
  "nbformat": 4,
  "nbformat_minor": 0,
  "metadata": {
    "accelerator": "GPU",
    "colab": {
      "name": "Workbook with NN .ipynb",
      "private_outputs": true,
      "provenance": [],
      "machine_shape": "hm",
      "include_colab_link": true
    },
    "kernelspec": {
      "display_name": "tensor",
      "language": "python",
      "name": "tensor"
    },
    "language_info": {
      "codemirror_mode": {
        "name": "ipython",
        "version": 3
      },
      "file_extension": ".py",
      "mimetype": "text/x-python",
      "name": "python",
      "nbconvert_exporter": "python",
      "pygments_lexer": "ipython3",
      "version": "3.8.2"
    },
    "toc": {
      "base_numbering": 1,
      "nav_menu": {},
      "number_sections": true,
      "sideBar": true,
      "skip_h1_title": false,
      "title_cell": "Table of Contents",
      "title_sidebar": "Contents",
      "toc_cell": false,
      "toc_position": {},
      "toc_section_display": true,
      "toc_window_display": false
    }
  },
  "cells": [
    {
      "cell_type": "markdown",
      "metadata": {
        "id": "view-in-github",
        "colab_type": "text"
      },
      "source": [
        "<a href=\"https://colab.research.google.com/github/Stereo-Alex/Fraud_detection/blob/main/Workbook_with_NN_.ipynb\" target=\"_parent\"><img src=\"https://colab.research.google.com/assets/colab-badge.svg\" alt=\"Open In Colab\"/></a>"
      ]
    },
    {
      "cell_type": "markdown",
      "metadata": {
        "id": "baMBki62PnnP"
      },
      "source": [
        "# Colab Set-up: "
      ]
    },
    {
      "cell_type": "code",
      "metadata": {
        "ExecuteTime": {
          "end_time": "2021-05-15T12:48:31.790029Z",
          "start_time": "2021-05-15T12:48:28.555499Z"
        },
        "id": "l67QqlNbun5_",
        "scrolled": true
      },
      "source": [
        "!pip install kaggle\n",
        "from google.colab import files\n",
        "files.upload()\n",
        "!mkdir -p ~/.kaggle\n",
        "!cp kaggle.json ~/.kaggle/\n",
        "!chmod 600 ~/.kaggle/kaggle.json"
      ],
      "execution_count": null,
      "outputs": []
    },
    {
      "cell_type": "code",
      "metadata": {
        "ExecuteTime": {
          "end_time": "2021-05-15T12:48:41.910866Z",
          "start_time": "2021-05-15T12:48:34.169893Z"
        },
        "id": "zhOY1ZmHhvzP",
        "scrolled": true
      },
      "source": [
        "!kaggle datasets download -d mlg-ulb/creditcardfraud"
      ],
      "execution_count": null,
      "outputs": []
    },
    {
      "cell_type": "code",
      "metadata": {
        "ExecuteTime": {
          "end_time": "2021-05-15T12:48:45.256748Z",
          "start_time": "2021-05-15T12:48:43.512398Z"
        },
        "id": "ykWyf7qChvj9",
        "scrolled": true
      },
      "source": [
        "!unzip creditcardfraud.zip"
      ],
      "execution_count": null,
      "outputs": []
    },
    {
      "cell_type": "markdown",
      "metadata": {
        "id": "huqgCy3MPnnm"
      },
      "source": [
        "# Preparing the data "
      ]
    },
    {
      "cell_type": "code",
      "metadata": {
        "ExecuteTime": {
          "end_time": "2021-05-15T13:34:24.915389Z",
          "start_time": "2021-05-15T13:34:23.862674Z"
        },
        "id": "ABTqhh9Th9WJ"
      },
      "source": [
        "import pandas as pd\n",
        "import numpy as np "
      ],
      "execution_count": null,
      "outputs": []
    },
    {
      "cell_type": "code",
      "metadata": {
        "ExecuteTime": {
          "end_time": "2021-05-15T13:34:25.003448Z",
          "start_time": "2021-05-15T13:34:24.918276Z"
        },
        "id": "zmOtE0J3iK31"
      },
      "source": [
        "df = pd.read_csv(\"/content/creditcard.csv\")"
      ],
      "execution_count": null,
      "outputs": []
    },
    {
      "cell_type": "code",
      "metadata": {
        "ExecuteTime": {
          "end_time": "2021-05-15T13:34:25.008126Z",
          "start_time": "2021-05-15T13:34:24.166Z"
        },
        "id": "RxBU5M90Icd3"
      },
      "source": [
        "X = df.drop(columns=[\"Class\"])\n",
        "y = df[\"Class\"]"
      ],
      "execution_count": null,
      "outputs": []
    },
    {
      "cell_type": "markdown",
      "metadata": {
        "id": "z4glGwUPPnnr"
      },
      "source": [
        "## We standarize the data: "
      ]
    },
    {
      "cell_type": "code",
      "metadata": {
        "ExecuteTime": {
          "end_time": "2021-05-15T13:34:25.010215Z",
          "start_time": "2021-05-15T13:34:24.485Z"
        },
        "id": "fN574P1jIekb"
      },
      "source": [
        "# We standarize\n",
        "from sklearn import preprocessing\n",
        "\n",
        "names = X.columns\n",
        "scaled_df = preprocessing.scale(X)\n",
        "\n",
        "scaled_df = pd.DataFrame(scaled_df,columns=names)\n",
        "scaled_df"
      ],
      "execution_count": null,
      "outputs": []
    },
    {
      "cell_type": "markdown",
      "metadata": {
        "id": "EWoi1d-AWE_C"
      },
      "source": [
        "## We split the data "
      ]
    },
    {
      "cell_type": "code",
      "metadata": {
        "ExecuteTime": {
          "end_time": "2021-05-15T13:34:25.014098Z",
          "start_time": "2021-05-15T13:34:24.777Z"
        },
        "id": "g42mhFfNIkbj"
      },
      "source": [
        "from sklearn.model_selection import train_test_split\n",
        "\n",
        "X_train, X_test, y_train, y_test = train_test_split(scaled_df, y,\n",
        "                                                    test_size = 0.30, random_state = 0, shuffle = True, stratify = y)"
      ],
      "execution_count": null,
      "outputs": []
    },
    {
      "cell_type": "markdown",
      "metadata": {
        "id": "eufNBlLcPnny"
      },
      "source": [
        "## SMOTE (Synthetic Minority Oversampling Technique)(Data Augmentation): \n",
        "We do this due to the unbalanced nature of the Data set, otherwise we can't really perform "
      ]
    },
    {
      "cell_type": "code",
      "metadata": {
        "ExecuteTime": {
          "end_time": "2021-05-15T13:34:25.022516Z",
          "start_time": "2021-05-15T13:34:25.017Z"
        },
        "id": "S4PPTYXOJ8ig"
      },
      "source": [
        "from imblearn.over_sampling import SMOTE\n",
        "\n",
        "sm = SMOTE(random_state = 33)\n",
        "X_train_new, y_train_new = sm.fit_sample(X_train, y_train.ravel())"
      ],
      "execution_count": null,
      "outputs": []
    },
    {
      "cell_type": "markdown",
      "metadata": {
        "id": "SetXy6CMPnn0"
      },
      "source": [
        "# Modeling\n",
        "## Model Architecture "
      ]
    },
    {
      "cell_type": "code",
      "metadata": {
        "ExecuteTime": {
          "end_time": "2021-05-15T13:34:36.852319Z",
          "start_time": "2021-05-15T13:34:25.310042Z"
        },
        "id": "Tbm439aSJR8o"
      },
      "source": [
        "import tensorflow as tf\n",
        "from tensorflow import keras\n",
        "from tensorflow.keras import Sequential\n",
        "from tensorflow.keras.layers import Flatten, Dense, Dropout, BatchNormalization\n",
        "\n",
        "model = Sequential()\n",
        "model.add(Dense(X_train_new.shape[1], activation = 'relu', input_dim = X_train_new.shape[1]))\n",
        "model.add(BatchNormalization())\n",
        "model.add(Dense(64, activation = 'relu'))\n",
        "model.add(BatchNormalization())\n",
        "model.add(Dropout(0.2))\n",
        "model.add(Dense(64, activation = 'relu'))\n",
        "model.add(BatchNormalization())\n",
        "model.add(Dropout(0.2))\n",
        "model.add(Dense(1, activation = 'sigmoid'))"
      ],
      "execution_count": null,
      "outputs": []
    },
    {
      "cell_type": "code",
      "metadata": {
        "ExecuteTime": {
          "end_time": "2021-05-15T13:34:36.858913Z",
          "start_time": "2021-05-15T13:34:25.474Z"
        },
        "id": "1aWLbowZJvJ8"
      },
      "source": [
        "model.compile(optimizer = 'adam',\n",
        "              loss = 'binary_crossentropy')"
      ],
      "execution_count": null,
      "outputs": []
    },
    {
      "cell_type": "markdown",
      "metadata": {
        "id": "mvV2xg3xWJ12"
      },
      "source": [
        "## Training "
      ]
    },
    {
      "cell_type": "code",
      "metadata": {
        "ExecuteTime": {
          "end_time": "2021-05-15T13:34:36.864862Z",
          "start_time": "2021-05-15T13:34:26.018Z"
        },
        "id": "D8490TuXJytI"
      },
      "source": [
        "history = model.fit(X_train_new, y_train_new, batch_size = 500, epochs=150,\n",
        "          validation_data=(X_test, y_test))"
      ],
      "execution_count": null,
      "outputs": []
    },
    {
      "cell_type": "markdown",
      "metadata": {
        "id": "xOje8T2SUOx4"
      },
      "source": [
        "# Results"
      ]
    },
    {
      "cell_type": "code",
      "metadata": {
        "ExecuteTime": {
          "end_time": "2021-05-15T13:34:36.868684Z",
          "start_time": "2021-05-15T13:34:26.479Z"
        },
        "id": "RDkinrSQKLZR"
      },
      "source": [
        "import matplotlib.pyplot as plt\n",
        "\n",
        "evaluation_metrics=pd.DataFrame(model.history.history)\n",
        "evaluation_metrics.plot(figsize=(10,5))\n",
        "plt.title(\"Loss for both Training and Validation\", size = 20)\n"
      ],
      "execution_count": null,
      "outputs": []
    },
    {
      "cell_type": "markdown",
      "metadata": {
        "id": "t_fTOc3rUFtf"
      },
      "source": [
        "## Adding a Callback \n"
      ]
    },
    {
      "cell_type": "code",
      "metadata": {
        "id": "Nj2nVXNaUMJd"
      },
      "source": [
        "from tensorflow.keras.callbacks import EarlyStopping\n",
        "\n",
        "Callback = EarlyStopping(monitor='val_loss', mode='min', verbose=1, patience = 10)"
      ],
      "execution_count": null,
      "outputs": []
    },
    {
      "cell_type": "code",
      "metadata": {
        "id": "66jU1OVUUMvc"
      },
      "source": [
        "# Reworked model\n",
        "\n",
        "model_2 = Sequential()\n",
        "model_2.add(Dense(X_train_new.shape[1], activation = 'relu', input_dim = X_train_new.shape[1]))\n",
        "model_2.add(BatchNormalization())\n",
        "model_2.add(Dense(64, activation = 'relu'))\n",
        "model_2.add(BatchNormalization())\n",
        "model_2.add(Dropout(0.2))\n",
        "model_2.add(Dense(64, activation = 'relu'))\n",
        "model_2.add(BatchNormalization())\n",
        "model_2.add(Dropout(0.2))\n",
        "model_2.add(Dense(1, activation = 'sigmoid'))\n",
        "\n",
        "model_2.compile(optimizer = 'adam',\n",
        "              loss = 'binary_crossentropy')\n",
        "\n",
        "history_2 =  model_2.fit(X_train_new, y_train_new, batch_size = 500, epochs=200,\n",
        "          validation_data=(X_test, y_test), \n",
        "          callbacks=[Callback])\n"
      ],
      "execution_count": null,
      "outputs": []
    },
    {
      "cell_type": "markdown",
      "metadata": {
        "id": "K0QiWe8nVOCr"
      },
      "source": [
        "# Results with callback\n"
      ]
    },
    {
      "cell_type": "code",
      "metadata": {
        "id": "kug-HqGYVRZ3"
      },
      "source": [
        "import matplotlib.pyplot as plt\n",
        "\n",
        "evaluation_metrics=pd.DataFrame(model_2.history.history)\n",
        "evaluation_metrics.plot(figsize=(10,5))\n",
        "plt.title(\"Loss for both Training and Validation\", size = 20)\n"
      ],
      "execution_count": null,
      "outputs": []
    },
    {
      "cell_type": "code",
      "metadata": {
        "ExecuteTime": {
          "end_time": "2021-05-15T13:34:36.872224Z",
          "start_time": "2021-05-15T13:34:26.647Z"
        },
        "id": "Ij7lRZOZPlKx"
      },
      "source": [
        "y_pred = model.predict_classes(X_test)\n",
        "y_pred_2 = model_2.predict_classes(X_test)"
      ],
      "execution_count": null,
      "outputs": []
    },
    {
      "cell_type": "code",
      "metadata": {
        "ExecuteTime": {
          "end_time": "2021-05-15T13:34:36.875736Z",
          "start_time": "2021-05-15T13:34:26.818Z"
        },
        "id": "ORLemrH_R0zG"
      },
      "source": [
        "from sklearn.metrics import confusion_matrix, accuracy_score, classification_report\n",
        "\n",
        "cm_nn=confusion_matrix(y_test, y_pred)\n",
        "print('No Callback Matrix')\n",
        "cm_nn"
      ],
      "execution_count": null,
      "outputs": []
    },
    {
      "cell_type": "code",
      "metadata": {
        "id": "QglGx5J6R3o8"
      },
      "source": [
        "cm_nn_2 = confusion_matrix(y_test, y_pred_2)\n",
        "print('Callback Matrix')\n",
        "cm_nn_2"
      ],
      "execution_count": null,
      "outputs": []
    },
    {
      "cell_type": "code",
      "metadata": {
        "id": "8hNC6D7-V87C"
      },
      "source": [
        ""
      ],
      "execution_count": null,
      "outputs": []
    }
  ]
}